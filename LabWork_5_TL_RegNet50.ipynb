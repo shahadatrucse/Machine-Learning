{
  "nbformat": 4,
  "nbformat_minor": 0,
  "metadata": {
    "colab": {
      "provenance": [],
      "authorship_tag": "ABX9TyN6Lm9ue6UXyMg9X5rlvSCd",
      "include_colab_link": true
    },
    "kernelspec": {
      "name": "python3",
      "display_name": "Python 3"
    },
    "language_info": {
      "name": "python"
    }
  },
  "cells": [
    {
      "cell_type": "markdown",
      "metadata": {
        "id": "view-in-github",
        "colab_type": "text"
      },
      "source": [
        "<a href=\"https://colab.research.google.com/github/shahadatrucse/Machine-Learning/blob/main/LabWork_5_TL_RegNet50.ipynb\" target=\"_parent\"><img src=\"https://colab.research.google.com/assets/colab-badge.svg\" alt=\"Open In Colab\"/></a>"
      ]
    },
    {
      "cell_type": "markdown",
      "source": [
        "# **Import Libray**"
      ],
      "metadata": {
        "id": "Deyw68nfFaI_"
      }
    },
    {
      "cell_type": "code",
      "source": [
        "import tensorflow as tf\n",
        "import numpy as np\n",
        "from tensorflow.keras.datasets import mnist\n",
        "from tensorflow.keras.utils import to_categorical\n",
        "from tensorflow.keras.models import Sequential\n",
        "from tensorflow.keras.layers import Conv2D, MaxPooling2D, Dense, Flatten, Dropout"
      ],
      "metadata": {
        "id": "TKn0Ane0FYeo"
      },
      "execution_count": null,
      "outputs": []
    },
    {
      "cell_type": "markdown",
      "source": [
        "# **Load the MNIST dataset**"
      ],
      "metadata": {
        "id": "0AbyLN76Fgp6"
      }
    },
    {
      "cell_type": "code",
      "source": [
        "(x_train, y_train), (x_test, y_test) = mnist.load_data()\n",
        "x_train.shape"
      ],
      "metadata": {
        "colab": {
          "base_uri": "https://localhost:8080/"
        },
        "id": "FTeobODXFg4_",
        "outputId": "9cc6715b-99c2-4506-ec02-b0ade26c338f"
      },
      "execution_count": null,
      "outputs": [
        {
          "output_type": "stream",
          "name": "stdout",
          "text": [
            "Downloading data from https://storage.googleapis.com/tensorflow/tf-keras-datasets/mnist.npz\n",
            "11490434/11490434 [==============================] - 0s 0us/step\n"
          ]
        },
        {
          "output_type": "execute_result",
          "data": {
            "text/plain": [
              "(60000, 28, 28)"
            ]
          },
          "metadata": {},
          "execution_count": 3
        }
      ]
    },
    {
      "cell_type": "markdown",
      "source": [
        "# **Normalize the pixel values to be between 0 and 1**\n",
        "\n"
      ],
      "metadata": {
        "id": "7KVTLdx_FvP3"
      }
    },
    {
      "cell_type": "code",
      "source": [
        "\n",
        "x_train = x_train.astype('float32') / 255\n",
        "x_test = x_test.astype('float32') / 255"
      ],
      "metadata": {
        "id": "cGJjQamzFvhh"
      },
      "execution_count": null,
      "outputs": []
    },
    {
      "cell_type": "markdown",
      "source": [
        "# **Convert Data to 3 Channel**"
      ],
      "metadata": {
        "id": "p64wHIfrHaLM"
      }
    },
    {
      "cell_type": "code",
      "source": [
        "x_train=np.stack((x_train,)*3, axis=-1)\n",
        "x_test=np.stack((x_test,)*3, axis=-1)\n",
        "x_train.shape"
      ],
      "metadata": {
        "colab": {
          "base_uri": "https://localhost:8080/"
        },
        "id": "4fqvhgAPHaZp",
        "outputId": "e87805e5-f41e-4d63-a6b5-0860fae05a78"
      },
      "execution_count": null,
      "outputs": [
        {
          "output_type": "execute_result",
          "data": {
            "text/plain": [
              "(60000, 28, 28, 3)"
            ]
          },
          "metadata": {},
          "execution_count": 5
        }
      ]
    },
    {
      "cell_type": "markdown",
      "source": [
        "# **Convert the labels to categorical one-hot encoding**"
      ],
      "metadata": {
        "id": "cQ3Lg38yHjQk"
      }
    },
    {
      "cell_type": "code",
      "source": [
        "y_train = to_categorical(y_train)\n",
        "y_test = to_categorical(y_test)"
      ],
      "metadata": {
        "id": "hUZ8DOWhHjeE"
      },
      "execution_count": null,
      "outputs": []
    },
    {
      "cell_type": "markdown",
      "source": [
        "# **TL Model**\n"
      ],
      "metadata": {
        "id": "VR0TNEJHH6k0"
      }
    },
    {
      "cell_type": "code",
      "source": [
        "from tensorflow.keras.applications.resnet50 import ResNet50\n",
        "\n",
        "model=Sequential()\n",
        "model.add(ResNet50(include_top=False, pooling='avg', weights='imagenet'))\n",
        "model.add(Dense(512, activation='relu'))\n",
        "model.add(Dense(10, activation='softmax'))\n",
        "# Set Resnet Layers not trainable\n",
        "model.layers[0].trainable=False\n",
        "model.summary()"
      ],
      "metadata": {
        "colab": {
          "base_uri": "https://localhost:8080/"
        },
        "id": "Po1ZlQdcH7P-",
        "outputId": "b239dc8e-7d0f-4894-d0e3-55a3c5b17a70"
      },
      "execution_count": null,
      "outputs": [
        {
          "output_type": "stream",
          "name": "stdout",
          "text": [
            "Downloading data from https://storage.googleapis.com/tensorflow/keras-applications/resnet/resnet50_weights_tf_dim_ordering_tf_kernels_notop.h5\n",
            "94765736/94765736 [==============================] - 1s 0us/step\n",
            "Model: \"sequential\"\n",
            "_________________________________________________________________\n",
            " Layer (type)                Output Shape              Param #   \n",
            "=================================================================\n",
            " resnet50 (Functional)       (None, 2048)              23587712  \n",
            "                                                                 \n",
            " dense (Dense)               (None, 512)               1049088   \n",
            "                                                                 \n",
            " dense_1 (Dense)             (None, 10)                5130      \n",
            "                                                                 \n",
            "=================================================================\n",
            "Total params: 24,641,930\n",
            "Trainable params: 1,054,218\n",
            "Non-trainable params: 23,587,712\n",
            "_________________________________________________________________\n"
          ]
        }
      ]
    },
    {
      "cell_type": "markdown",
      "source": [
        "# **Compile the model**"
      ],
      "metadata": {
        "id": "achMG537IH_6"
      }
    },
    {
      "cell_type": "code",
      "source": [
        "model.compile(optimizer='adam', loss='categorical_crossentropy', metrics=['accuracy'])"
      ],
      "metadata": {
        "id": "Jihmn-7DIIW5"
      },
      "execution_count": null,
      "outputs": []
    },
    {
      "cell_type": "markdown",
      "source": [
        "# **Train the model**"
      ],
      "metadata": {
        "id": "gAv3lRAKIeGv"
      }
    },
    {
      "cell_type": "code",
      "source": [
        "model.fit(x_train, y_train, epochs=10, batch_size=128, validation_data=(x_test, y_test))"
      ],
      "metadata": {
        "colab": {
          "base_uri": "https://localhost:8080/"
        },
        "id": "oo-sYsz-IeUn",
        "outputId": "a7cb803d-8c8f-4a89-ef8e-22ea91d284cb"
      },
      "execution_count": null,
      "outputs": [
        {
          "output_type": "stream",
          "name": "stdout",
          "text": [
            "Epoch 1/10\n",
            "469/469 [==============================] - 246s 515ms/step - loss: 0.6722 - accuracy: 0.7990 - val_loss: 0.3798 - val_accuracy: 0.8871\n",
            "Epoch 2/10\n",
            "469/469 [==============================] - 237s 506ms/step - loss: 0.3589 - accuracy: 0.8893 - val_loss: 0.2950 - val_accuracy: 0.9094\n",
            "Epoch 3/10\n",
            "469/469 [==============================] - 230s 490ms/step - loss: 0.2943 - accuracy: 0.9081 - val_loss: 0.2613 - val_accuracy: 0.9177\n",
            "Epoch 4/10\n",
            "469/469 [==============================] - 240s 511ms/step - loss: 0.2651 - accuracy: 0.9156 - val_loss: 0.2220 - val_accuracy: 0.9340\n",
            "Epoch 5/10\n",
            "469/469 [==============================] - 239s 511ms/step - loss: 0.2424 - accuracy: 0.9227 - val_loss: 0.2054 - val_accuracy: 0.9382\n",
            "Epoch 6/10\n",
            "469/469 [==============================] - 238s 509ms/step - loss: 0.2235 - accuracy: 0.9284 - val_loss: 0.2331 - val_accuracy: 0.9227\n",
            "Epoch 7/10\n",
            "469/469 [==============================] - 238s 508ms/step - loss: 0.2103 - accuracy: 0.9328 - val_loss: 0.2534 - val_accuracy: 0.9174\n",
            "Epoch 8/10\n",
            "469/469 [==============================] - 229s 488ms/step - loss: 0.1976 - accuracy: 0.9375 - val_loss: 0.1911 - val_accuracy: 0.9384\n",
            "Epoch 9/10\n",
            "469/469 [==============================] - 240s 512ms/step - loss: 0.1929 - accuracy: 0.9379 - val_loss: 0.1839 - val_accuracy: 0.9424\n",
            "Epoch 10/10\n",
            "469/469 [==============================] - 240s 513ms/step - loss: 0.1827 - accuracy: 0.9410 - val_loss: 0.1660 - val_accuracy: 0.9493\n"
          ]
        },
        {
          "output_type": "execute_result",
          "data": {
            "text/plain": [
              "<keras.callbacks.History at 0x7f61d8079130>"
            ]
          },
          "metadata": {},
          "execution_count": 10
        }
      ]
    },
    {
      "cell_type": "markdown",
      "source": [
        "# **Evaluate the model on the test data**"
      ],
      "metadata": {
        "id": "hef7F-ZGIpBt"
      }
    },
    {
      "cell_type": "code",
      "source": [
        "test_loss, test_acc = model.evaluate(x_test, y_test, verbose=2)\n",
        "print('Test accuracy:', test_acc)"
      ],
      "metadata": {
        "colab": {
          "base_uri": "https://localhost:8080/"
        },
        "id": "b3TEGMC2IpPL",
        "outputId": "789a4a91-e40d-4002-c31f-bb8a339d8b81"
      },
      "execution_count": null,
      "outputs": [
        {
          "output_type": "stream",
          "name": "stdout",
          "text": [
            "313/313 - 38s - loss: 0.1660 - accuracy: 0.9493 - 38s/epoch - 120ms/step\n",
            "Test accuracy: 0.9492999911308289\n"
          ]
        }
      ]
    }
  ]
}