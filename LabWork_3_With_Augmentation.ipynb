{
  "nbformat": 4,
  "nbformat_minor": 0,
  "metadata": {
    "colab": {
      "provenance": [],
      "authorship_tag": "ABX9TyM7eTni8sni1YN1qAuf77yJ",
      "include_colab_link": true
    },
    "kernelspec": {
      "name": "python3",
      "display_name": "Python 3"
    },
    "language_info": {
      "name": "python"
    }
  },
  "cells": [
    {
      "cell_type": "markdown",
      "metadata": {
        "id": "view-in-github",
        "colab_type": "text"
      },
      "source": [
        "<a href=\"https://colab.research.google.com/github/shahadatrucse/Machine-Learning/blob/main/LabWork_3_With_Augmentation.ipynb\" target=\"_parent\"><img src=\"https://colab.research.google.com/assets/colab-badge.svg\" alt=\"Open In Colab\"/></a>"
      ]
    },
    {
      "cell_type": "markdown",
      "source": [
        "# **Import necessary Library and MNIST Dataset**"
      ],
      "metadata": {
        "id": "cu2UammZ5VZe"
      }
    },
    {
      "cell_type": "code",
      "execution_count": null,
      "metadata": {
        "id": "iHQJpDVQ0_T_"
      },
      "outputs": [],
      "source": [
        "import tensorflow as tf\n",
        "from tensorflow import keras\n",
        "from tensorflow.keras.datasets import mnist\n",
        "from tensorflow.keras.preprocessing.image import ImageDataGenerator\n",
        "\n",
        "(X_train, y_train), (x_test, y_test) = mnist.load_data()\n",
        "X_train = X_train.reshape((60000, 28, 28, 1)) / 255.0\n",
        "x_test = x_test.reshape((10000, 28, 28, 1)) / 255.0\n",
        "\n",
        "y_train = keras.utils.to_categorical(y_train, 10)\n",
        "y_test = keras.utils.to_categorical(y_test, 10)\n",
        "\n",
        "\n"
      ]
    },
    {
      "cell_type": "markdown",
      "source": [
        "# **Data Augmentation**"
      ],
      "metadata": {
        "id": "VSbWF87i6D6g"
      }
    },
    {
      "cell_type": "code",
      "source": [
        "datagen = ImageDataGenerator(\n",
        "    rotation_range=10,\n",
        "    width_shift_range=0.1,\n",
        "    height_shift_range=0.1,\n",
        "    shear_range=0.1,\n",
        "    zoom_range=0.1,\n",
        "    fill_mode='nearest'\n",
        ")\n"
      ],
      "metadata": {
        "id": "ZZSX8EBT1ZH1"
      },
      "execution_count": null,
      "outputs": []
    },
    {
      "cell_type": "markdown",
      "source": [
        "# **Network Design Network**"
      ],
      "metadata": {
        "id": "OtBzI92a6alZ"
      }
    },
    {
      "cell_type": "code",
      "source": [
        "model = keras.Sequential([\n",
        "    keras.layers.Conv2D(32, (3,3), activation='relu', input_shape=(28, 28, 1)),\n",
        "    keras.layers.MaxPooling2D((2,2)),\n",
        "    keras.layers.Conv2D(64, (3,3), activation='relu'),\n",
        "    keras.layers.MaxPooling2D((2,2)),\n",
        "    keras.layers.Conv2D(128, (3,3), activation='relu'),\n",
        "    keras.layers.Flatten(),\n",
        "    keras.layers.Dense(128, activation='relu'),\n",
        "    keras.layers.Dense(64, activation='relu'),\n",
        "    keras.layers.Dense(32, activation='relu'),\n",
        "    keras.layers.Dense(10, activation='softmax')\n",
        "])\n"
      ],
      "metadata": {
        "id": "SdoNUQJu1brF"
      },
      "execution_count": null,
      "outputs": []
    },
    {
      "cell_type": "markdown",
      "source": [
        "#**Model Train**"
      ],
      "metadata": {
        "id": "B2X5HGVD6Zn8"
      }
    },
    {
      "cell_type": "code",
      "source": [
        "model.compile(optimizer='adam', loss='categorical_crossentropy', metrics=['accuracy'])\n"
      ],
      "metadata": {
        "id": "-flqRjdC1esm"
      },
      "execution_count": null,
      "outputs": []
    },
    {
      "cell_type": "code",
      "source": [
        "datagen.fit(X_train)\n",
        "model.fit(datagen.flow(X_train, y_train, batch_size=128),\n",
        "          epochs=10,\n",
        "          validation_data=(x_test, y_test))\n"
      ],
      "metadata": {
        "colab": {
          "base_uri": "https://localhost:8080/"
        },
        "id": "0oTXeZ6U1hR7",
        "outputId": "98e27baf-dc28-43a9-e4ec-6a1ec88eccfb"
      },
      "execution_count": null,
      "outputs": [
        {
          "output_type": "stream",
          "name": "stdout",
          "text": [
            "Epoch 1/10\n",
            "469/469 [==============================] - 52s 108ms/step - loss: 0.4230 - accuracy: 0.8660 - val_loss: 0.0817 - val_accuracy: 0.9744\n",
            "Epoch 2/10\n",
            "469/469 [==============================] - 50s 106ms/step - loss: 0.1239 - accuracy: 0.9621 - val_loss: 0.0527 - val_accuracy: 0.9836\n",
            "Epoch 3/10\n",
            "469/469 [==============================] - 50s 107ms/step - loss: 0.0860 - accuracy: 0.9738 - val_loss: 0.0404 - val_accuracy: 0.9870\n",
            "Epoch 4/10\n",
            "469/469 [==============================] - 52s 110ms/step - loss: 0.0702 - accuracy: 0.9780 - val_loss: 0.0365 - val_accuracy: 0.9868\n",
            "Epoch 5/10\n",
            "469/469 [==============================] - 50s 107ms/step - loss: 0.0627 - accuracy: 0.9810 - val_loss: 0.0302 - val_accuracy: 0.9900\n",
            "Epoch 6/10\n",
            "469/469 [==============================] - 50s 107ms/step - loss: 0.0552 - accuracy: 0.9827 - val_loss: 0.0381 - val_accuracy: 0.9874\n",
            "Epoch 7/10\n",
            "469/469 [==============================] - 50s 105ms/step - loss: 0.0498 - accuracy: 0.9844 - val_loss: 0.0312 - val_accuracy: 0.9894\n",
            "Epoch 8/10\n",
            "469/469 [==============================] - 49s 105ms/step - loss: 0.0452 - accuracy: 0.9865 - val_loss: 0.0217 - val_accuracy: 0.9925\n",
            "Epoch 9/10\n",
            "469/469 [==============================] - 50s 106ms/step - loss: 0.0439 - accuracy: 0.9867 - val_loss: 0.0311 - val_accuracy: 0.9907\n",
            "Epoch 10/10\n",
            "469/469 [==============================] - 50s 107ms/step - loss: 0.0400 - accuracy: 0.9880 - val_loss: 0.0212 - val_accuracy: 0.9928\n"
          ]
        },
        {
          "output_type": "execute_result",
          "data": {
            "text/plain": [
              "<keras.callbacks.History at 0x7f857f3206a0>"
            ]
          },
          "metadata": {},
          "execution_count": 8
        }
      ]
    },
    {
      "cell_type": "markdown",
      "source": [
        "#**Model Evaluation with Augmentation**"
      ],
      "metadata": {
        "id": "3R3w_ULF62X2"
      }
    },
    {
      "cell_type": "code",
      "source": [
        "d=model.evaluate(x_test,y_test)\n",
        "print(\"Model Accuracy = {:.2f}%\".format(round(d[1]*100, 2)))"
      ],
      "metadata": {
        "colab": {
          "base_uri": "https://localhost:8080/"
        },
        "id": "cLzXkv_b8-mh",
        "outputId": "deeed96a-3758-41cd-e7ef-d7acd8ffa06c"
      },
      "execution_count": null,
      "outputs": [
        {
          "output_type": "stream",
          "name": "stdout",
          "text": [
            "313/313 [==============================] - 2s 7ms/step - loss: 0.0212 - accuracy: 0.9928\n",
            "Model Accuracy = 99.28%\n"
          ]
        }
      ]
    }
  ]
}