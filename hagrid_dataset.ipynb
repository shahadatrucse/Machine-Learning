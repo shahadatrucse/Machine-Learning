{
  "cells": [
    {
      "cell_type": "markdown",
      "metadata": {
        "id": "view-in-github",
        "colab_type": "text"
      },
      "source": [
        "<a href=\"https://colab.research.google.com/github/shahadatrucse/Machine-Learning/blob/main/hagrid_dataset.ipynb\" target=\"_parent\"><img src=\"https://colab.research.google.com/assets/colab-badge.svg\" alt=\"Open In Colab\"/></a>"
      ]
    },
    {
      "cell_type": "markdown",
      "metadata": {
        "id": "awhI-xIMgr_b"
      },
      "source": [
        "drive mount"
      ]
    },
    {
      "cell_type": "code",
      "execution_count": null,
      "metadata": {
        "id": "1f0Sto3VgYxf",
        "colab": {
          "base_uri": "https://localhost:8080/"
        },
        "outputId": "ae954057-5baa-41f5-981f-9c3fb6262f7e"
      },
      "outputs": [
        {
          "output_type": "stream",
          "name": "stdout",
          "text": [
            "Mounted at /content/drive\n"
          ]
        }
      ],
      "source": [
        "from google.colab import drive\n",
        "drive.mount('/content/drive')"
      ]
    },
    {
      "cell_type": "code",
      "execution_count": null,
      "metadata": {
        "id": "y0_lZ_hig2tm"
      },
      "outputs": [],
      "source": [
        "import os\n",
        "\n",
        "!mkdir dataset\n",
        "%cd /content/dataset\n",
        "\n",
        "#Download Like Gesture Dataset\n",
        "#!wget https://sc.link/xjDB\n",
        "\n",
        "#Download dislike gesture dataset\n",
        "#!wget https://sc.link/xjDB\n",
        "\n",
        "#Download palm gesture dataset\n",
        "# !wget https://sc.link/nJp7\n",
        "\n",
        "#Download mute gesture dataset\n",
        "# !wget https://sc.link/q8vp\n",
        "\n",
        "#Download peace gesture dataset\n",
        "# !wget https://sc.link/l6nM\n",
        "\n",
        "#Download ok gesture dataset\n",
        "# !wget https://sc.link/pV0V\n",
        "\n",
        "#Download rock gesture dataset\n",
        "# !wget https://sc.link/kMm6\n",
        "\n",
        "#Download fist gesture dataset need to download\n",
        "# !wget https://sc.link/wgB8\n",
        "\n",
        "#Download test gesture dataset\n",
        "# !wget https://sc.link/zlGy"
      ]
    },
    {
      "cell_type": "code",
      "execution_count": null,
      "metadata": {
        "id": "BfrcrCTDrSfT"
      },
      "outputs": [],
      "source": [
        "#count images in a folder\n",
        "import os\n",
        "import cv2\n",
        "\n",
        "def count_image(path):\n",
        "  cnt = 0\n",
        "  for f in os.listdir(path):\n",
        "    if '.jpg'in f:\n",
        "      image = cv2.imread(path+'/'+f, 3)\n",
        "      print(image.shape)\n",
        "      cnt += 1\n",
        "      # if cnt>=17050:\n",
        "      #   break\n",
        "\n",
        "  return cnt"
      ]
    },
    {
      "cell_type": "code",
      "execution_count": null,
      "metadata": {
        "id": "HUA2B8dfyFbK"
      },
      "outputs": [],
      "source": [
        "print(\"Total Images \",count_image('/content/drive/MyDrive/hagrid_dataset/dataset/ok'))"
      ]
    },
    {
      "cell_type": "code",
      "execution_count": null,
      "metadata": {
        "id": "Zujm_mH_yUTm"
      },
      "outputs": [],
      "source": [
        "#Move all images in the drive\n",
        "import shutil\n",
        "import cv2\n",
        "import os\n",
        "list_img = {\n",
        "    \n",
        "}\n",
        "\n",
        "\n",
        "\n",
        "targetSize = 512\n",
        "def resize_and_move(path, save_path):\n",
        "  cnt = 0\n",
        "  folder = ['peace','rock','test']\n",
        "  for fol in folder:\n",
        "  \n",
        "    for f in os.listdir(path+fol):\n",
        "      if '.jpg'in f:\n",
        "        cnt += 1\n",
        "        image_path = os.path.join(path+fol,f)\n",
        "        image = cv2.imread(image_path,3)\n",
        "        #os.remove(image_path)\n",
        "        image = cv2.resize(image, (targetSize, targetSize));\n",
        "        cv2.imwrite(image_path, image)\n",
        "        \n",
        "        print(\"{} Iteration = {}\".format(fol,cnt))\n",
        "      \n",
        "    \n",
        "  return cnt"
      ]
    },
    {
      "cell_type": "code",
      "execution_count": null,
      "metadata": {
        "id": "Csdgt7gmBBMo"
      },
      "outputs": [],
      "source": [
        "print(resize_and_move('/content/drive/MyDrive/hagrid_dataset/dataset/','/content/drive/MyDrive/hagrid_dataset/dataset/'))"
      ]
    },
    {
      "cell_type": "code",
      "execution_count": null,
      "metadata": {
        "colab": {
          "base_uri": "https://localhost:8080/"
        },
        "id": "TixzMSDrBgOO",
        "outputId": "eabc94d9-bafe-4c1a-92ab-b97eb4064c4d"
      },
      "outputs": [
        {
          "output_type": "stream",
          "name": "stdout",
          "text": [
            "1.3483263\n"
          ]
        }
      ],
      "source": [
        "# import module\n",
        "import os\n",
        " \n",
        "# assign size\n",
        "size = 0\n",
        " \n",
        "# assign folder path\n",
        "Folderpath = '/content/drive/MyDrive/hagrid_dataset/dataset/ok'\n",
        " \n",
        "# get size\n",
        "size = 0\n",
        "\n",
        "for ele in os.scandir(Folderpath):\n",
        "      size+=os.path.getsize(ele)\n",
        "     \n",
        "print(size/1000000000)"
      ]
    },
    {
      "cell_type": "code",
      "source": [
        "%cd /content/sample_data\n",
        "!mkdir annotation\n",
        "%cd annotation\n",
        "!wget https://sc.link/BE5Y"
      ],
      "metadata": {
        "id": "7Wx1s2RuOjpC"
      },
      "execution_count": null,
      "outputs": []
    },
    {
      "cell_type": "code",
      "source": [
        "!jar xvf /content/sample_data/annotation/BE5Y\n",
        "!rm -rf //content/sample_data/annotation/BE5Y"
      ],
      "metadata": {
        "id": "euwbeKcoYnoL"
      },
      "execution_count": null,
      "outputs": []
    },
    {
      "cell_type": "code",
      "source": [
        "import os\n",
        "dataset_path = '/content/drive/MyDrive/hagrid_dataset/dataset'\n",
        "\n",
        "imgList = {\n",
        "    \n",
        "}\n",
        "folder=['like','dislike','mute','palm']\n",
        "\n",
        "cnt = 0\n",
        "for dir in folder:\n",
        "  if ('.ip' in dir) or ('test' in dir):\n",
        "    continue\n",
        "  for img in os.listdir(os.path.join(dataset_path,dir)):\n",
        "    if '.jpg' in img:\n",
        "      imgList[img]=os.path.join(dataset_path,dir)\n",
        "      #print(dir,\"    \", img,\"    \", imgList[img])\n",
        "      cnt +=1\n",
        "\n",
        "      # if cnt>=10:\n",
        "      #   break\n",
        "print(cnt)"
      ],
      "metadata": {
        "colab": {
          "base_uri": "https://localhost:8080/"
        },
        "id": "2jZLe7ZuUW9L",
        "outputId": "18f84780-2fc2-4c65-f610-d9bf096fe588"
      },
      "execution_count": null,
      "outputs": [
        {
          "output_type": "stream",
          "name": "stdout",
          "text": [
            "67456\n"
          ]
        }
      ]
    },
    {
      "cell_type": "code",
      "source": [
        "len(imgList)"
      ],
      "metadata": {
        "colab": {
          "base_uri": "https://localhost:8080/"
        },
        "id": "LVEPbGb3VTId",
        "outputId": "8eb3cb8c-e0d8-4235-b0fa-f42251ec42fe"
      },
      "execution_count": null,
      "outputs": [
        {
          "output_type": "execute_result",
          "data": {
            "text/plain": [
              "67456"
            ]
          },
          "metadata": {},
          "execution_count": 6
        }
      ]
    },
    {
      "cell_type": "code",
      "source": [
        "'''\n",
        "    Splits each gesture classes of hagrid dataset into train and validation set \n",
        "    Resizes images of into 1024x1024\n",
        "    Converts annotation of hagrid dataset into csv format\n",
        "    Saves them in respective class directories (80% train and 20% validation)\n",
        "'''\n",
        "\n",
        "import csv\n",
        "import json\n",
        "import math\n",
        "import os\n",
        "import random\n",
        "from turtle import width\n",
        "import progressbar\n",
        "import cv2\n",
        "import os\n",
        "\n",
        "\n",
        "\n",
        "# Gesture list to be processed\n",
        "TARGET = [\n",
        "    \"dislike\",\n",
        "    \"like\",\n",
        "    \"mute\",\n",
        "    \"palm\",\n",
        "    \"no_gesture\"\n",
        "]\n",
        "\n",
        "# Header of csv file\n",
        "#type(train,test,valid) img_path, class, xmin, ymin, , , xmax, ymax\n",
        "# Find all directories in given path\n",
        "def find_directory_list(directory_path):\n",
        "    list_dir = []\n",
        "    for dir in os.listdir(directory_path):\n",
        "        if dir in TARGET:\n",
        "            list_dir.append(dir)\n",
        "    return list_dir\n",
        "\n",
        "\n",
        "# Find all images in given directory, Not necessery now\n",
        "def find_file(directory, filename):\n",
        "    for root, dirs, files in os.walk(directory):\n",
        "        if filename in files:\n",
        "            return os.path.join(root, filename)\n",
        "    return None\n",
        "\n",
        "\n",
        "# Insert annotation to csv file\n",
        "def save_csv(csv_path, csv_content):\n",
        "    with open(csv_path, 'w', newline='') as csvfile:\n",
        "        wr = csv.writer(csvfile)\n",
        "        for i in range(len(csv_content)):\n",
        "            wr.writerow(csv_content[i])\n",
        "            \n",
        "            \n",
        "# Create directory with given name if it doesn't exist\n",
        "def create_directory(dir_path):\n",
        "    if not os.path.exists(dir_path):\n",
        "        os.makedirs(dir_path)\n",
        "    else:\n",
        "        print(\"directory already exist\")\n",
        "        \n",
        "        \n",
        "# Calculate xmin, ymin, xmax, ymax of bounding box from annotation\n",
        "def calculated_bbox(bboxes, img_width, img_height):\n",
        "    xmin = int(float(bboxes[0])*img_width)\n",
        "    ymin = int(float(bboxes[1])*img_height)\n",
        "    xmax = xmin + int(float(bboxes[2])*img_width)\n",
        "    ymax = ymin + int(float(bboxes[3]*img_height))\n",
        "    return xmin, ymin, xmax, ymax\n",
        "\n",
        "\n",
        "def process_dataset(gesture_images_path, gesture_annotation_json_path, width, height):\n",
        "    \n",
        "    csv_file = '/content/drive/MyDrive/hagrid_dataset/annotation_csv/annotation.csv'\n",
        "\n",
        "    csvList = []\n",
        "\n",
        "    '''Iterate every gesture class'''\n",
        "    for gesture in TARGET:\n",
        "        #since no_gesture has no extra class, ignore it\n",
        "        if 'no_gesture' in gesture:\n",
        "            continue\n",
        "        print(\"\\nProcessing gesture: \" + gesture + \"...\\n\")\n",
        "        \n",
        "        '''Make gesture annotation list from json annotation file'''\n",
        "        json_gesture_annotation_list = []\n",
        "        count = 0\n",
        "        \n",
        "        \n",
        "        with open(os.path.join(gesture_annotation_json_path, gesture+\".json\"), \"r\") as f:\n",
        "            data = json.load(f)\n",
        "            for key, value in data.items():\n",
        "                imgName = key+'.jpg'\n",
        "                if imgName not in imgList:\n",
        "                    continue\n",
        "                count += 1\n",
        "                json_gesture_annotation_list.append({'path': imgList[imgName], 'labels': value['labels'], 'boxes': value['bboxes'], 'name': key})\n",
        "                \n",
        "        print(count)\n",
        "\n",
        "        '''shuffle gesture_annotation_list for random choose for validation and train'''\n",
        "        random.shuffle(json_gesture_annotation_list)\n",
        "\n",
        "        total = len(json_gesture_annotation_list)\n",
        "\n",
        "        for i in range(total):\n",
        "          arr_labels = []\n",
        "          arr_bboxes = []\n",
        "          \n",
        "          '''get labels and bboxes for an image from json list'''\n",
        "          for labels in json_gesture_annotation_list[i]['labels']:\n",
        "              arr_labels.append(labels)\n",
        "          for bboxes in json_gesture_annotation_list[i]['boxes']:\n",
        "              arr_bboxes.append(bboxes)\n",
        "\n",
        "          for j in range(len(arr_labels)):\n",
        "              '''calculate bbox'''\n",
        "              if arr_labels[j] in TARGET:\n",
        "                  xmin, ymin, xmax, ymax = calculated_bbox(arr_bboxes[j][:4],width,height)\n",
        "                  TYPE = 'TRAIN'\n",
        "                  if int(total*0.80<i):\n",
        "                    TYPE = 'VALIDATION'\n",
        "              \n",
        "                  csvList.append([TYPE, imgList[json_gesture_annotation_list[i]['name']+'.jpg']+'/'+json_gesture_annotation_list[i]['name']+'.jpg', arr_labels[j], xmin, ymin,'','', xmax, ymax])\n",
        "\n",
        "    random.shuffle(csvList)\n",
        "\n",
        "    # for i in range(len(csvList)):\n",
        "    #   print(csvList[i]) \n",
        "    #   if(i>=100):\n",
        "    #     break; \n",
        "    save_csv(csv_file,csvList)\n",
        "\n",
        "                    \n",
        "                    \n",
        "if __name__==\"__main__\":\n",
        "    \n",
        "    #annotation json path\n",
        "    # GESTURE_ANNOTATION_JSON_PATH = os.path.join(os.getcwd(),'dataset\\\\train\\\\ann_train_val')\n",
        "    GESTURE_ANNOTATION_JSON_PATH = '/content/dataset/ann_train_val'\n",
        "\n",
        "    #gesture dataset path which you want to process\n",
        "    # GESTURE_DATASET_PATH = os.path.join(os.getcwd(), 'dataset/train/images_train_val')\n",
        "    GESTURE_DATASET_PATH = '/content/drive/MyDrive/hagrid_dataset/dataset'\n",
        "    height = 512\n",
        "    width = 512\n",
        "  \n",
        "    \n",
        "    # Process the dataset and save it into csv files\n",
        "    process_dataset(GESTURE_DATASET_PATH, GESTURE_ANNOTATION_JSON_PATH, width, height)\n",
        "    \n",
        "    \n",
        "    "
      ],
      "metadata": {
        "colab": {
          "base_uri": "https://localhost:8080/"
        },
        "id": "ZXm81qtLXQ_a",
        "outputId": "8cdc0023-a229-4451-f1fb-d30218f88cba"
      },
      "execution_count": null,
      "outputs": [
        {
          "output_type": "stream",
          "name": "stdout",
          "text": [
            "\n",
            "Processing gesture: dislike...\n",
            "\n",
            "17050\n",
            "\n",
            "Processing gesture: like...\n",
            "\n",
            "17051\n",
            "\n",
            "Processing gesture: mute...\n",
            "\n",
            "17050\n",
            "\n",
            "Processing gesture: palm...\n",
            "\n",
            "16305\n"
          ]
        }
      ]
    },
    {
      "cell_type": "code",
      "source": [
        "import cv2\n",
        "import os\n",
        "import csv\n",
        "import shutil\n",
        "img_path = ''\n",
        "csv_path = ''\n",
        "targetSize = 1024\n",
        "import matplotlib.pyplot as plt\n",
        "\n",
        "def calculated_bbox(bboxes, img_width, img_height):\n",
        "    xmin = int(float(bboxes[0])*img_width)\n",
        "    ymin = int(float(bboxes[1])*img_height)\n",
        "    xmax = int(float(bboxes[2])*img_width)\n",
        "    ymax = int(float(bboxes[3]*img_height))\n",
        "    \n",
        "    return xmin, ymin, xmax, ymax\n",
        "\n",
        "def drawBox(image, boxes):\n",
        "    \n",
        "    cv2.rectangle(image, (boxes[0], boxes[1]), (boxes[2],boxes[3]), (255, 0, 0), 2)\n",
        "    plt.imshow(image)\n",
        "    plt.show()\n",
        "\n",
        "\n",
        "bboxes = [261,232,286,299]\n",
        "\n",
        "img_path = '/content/drive/MyDrive/hagrid_dataset/dataset/like/21237f22-9fe5-4694-9990-671801052207.jpg'\n",
        "\n",
        "img = cv2.imread(img_path,3)\n",
        "print(img.shape)\n",
        "# bbox = calculated_bbox(bboxes, targetSize, targetSize)\n",
        "\n",
        "drawBox(img, bboxes)\n"
      ],
      "metadata": {
        "colab": {
          "base_uri": "https://localhost:8080/",
          "height": 287
        },
        "id": "LTxt6_I1gSCd",
        "outputId": "15d1a472-6eb7-467a-f44e-0abf5418a272"
      },
      "execution_count": null,
      "outputs": [
        {
          "output_type": "stream",
          "name": "stdout",
          "text": [
            "(512, 512, 3)\n"
          ]
        },
        {
          "output_type": "display_data",
          "data": {
            "text/plain": [
              "<Figure size 432x288 with 1 Axes>"
            ],
            "image/png": "[encoded data removed]"
          },
          "metadata": {
            "needs_background": "light"
          }
        }
      ]
    },
    {
      "cell_type": "code",
      "source": [
        "print(\"hello\")"
      ],
      "metadata": {
        "id": "VSAnIVWUj5_k",
        "colab": {
          "base_uri": "https://localhost:8080/"
        },
        "outputId": "84ad1aa2-cfd3-4319-a9d6-076aa198dcfb"
      },
      "execution_count": null,
      "outputs": [
        {
          "output_type": "stream",
          "name": "stdout",
          "text": [
            "hello\n"
          ]
        }
      ]
    },
    {
      "cell_type": "code",
      "source": [
        "!sudo apt -y install libportaudio2\n",
        "!pip install -q --use-deprecated=legacy-resolver tflite-model-maker\n",
        "!pip install -q pycocotools\n",
        "!pip install -q opencv-python-headless==4.1.2.30\n",
        "!pip uninstall -y tensorflow && pip install -q tensorflow==2.8.0"
      ],
      "metadata": {
        "id": "bG7fVDawnB8x"
      },
      "execution_count": null,
      "outputs": []
    },
    {
      "cell_type": "code",
      "source": [
        "#change flatebuffer version\n",
        "!pip install --upgrade flatbuffers"
      ],
      "metadata": {
        "id": "0CD5RYZEnUF7"
      },
      "execution_count": null,
      "outputs": []
    },
    {
      "cell_type": "code",
      "source": [
        "import numpy as np\n",
        "import os\n",
        "\n",
        "from tflite_model_maker.config import QuantizationConfig\n",
        "from tflite_model_maker.config import ExportFormat\n",
        "from tflite_model_maker import model_spec\n",
        "from tflite_model_maker import object_detector\n",
        "\n",
        "import tensorflow as tf\n",
        "assert tf.__version__.startswith('2')\n",
        "\n",
        "tf.get_logger().setLevel('ERROR')\n",
        "from absl import logging\n",
        "logging.set_verbosity(logging.ERROR)"
      ],
      "metadata": {
        "id": "JU9-LY-entDQ"
      },
      "execution_count": null,
      "outputs": []
    },
    {
      "cell_type": "code",
      "source": [
        "spec = model_spec.get('efficientdet_lite4')"
      ],
      "metadata": {
        "id": "HvsHrhnSnvrI"
      },
      "execution_count": null,
      "outputs": []
    },
    {
      "cell_type": "code",
      "source": [
        "train_data, validation_data, test_data = object_detector.DataLoader.from_csv('/content/drive/MyDrive/hagrid_dataset/annotation_csv/annotation.csv')"
      ],
      "metadata": {
        "id": "nzUp5hB0nxuD",
        "colab": {
          "base_uri": "https://localhost:8080/",
          "height": 380
        },
        "outputId": "95201211-0da8-4370-b254-17437d9858f5"
      },
      "execution_count": null,
      "outputs": [
        {
          "output_type": "error",
          "ename": "KeyboardInterrupt",
          "evalue": "ignored",
          "traceback": [
            "\u001b[0;31m---------------------------------------------------------------------------\u001b[0m",
            "\u001b[0;31mKeyboardInterrupt\u001b[0m                         Traceback (most recent call last)",
            "\u001b[0;32m<ipython-input-14-46388b5f9b3d>\u001b[0m in \u001b[0;36m<module>\u001b[0;34m\u001b[0m\n\u001b[0;32m----> 1\u001b[0;31m \u001b[0mtrain_data\u001b[0m\u001b[0;34m,\u001b[0m \u001b[0mvalidation_data\u001b[0m\u001b[0;34m,\u001b[0m \u001b[0mtest_data\u001b[0m \u001b[0;34m=\u001b[0m \u001b[0mobject_detector\u001b[0m\u001b[0;34m.\u001b[0m\u001b[0mDataLoader\u001b[0m\u001b[0;34m.\u001b[0m\u001b[0mfrom_csv\u001b[0m\u001b[0;34m(\u001b[0m\u001b[0;34m'/content/drive/MyDrive/hagrid_dataset/annotation_csv/annotation.csv'\u001b[0m\u001b[0;34m)\u001b[0m\u001b[0;34m\u001b[0m\u001b[0;34m\u001b[0m\u001b[0m\n\u001b[0m",
            "\u001b[0;32m/usr/local/lib/python3.7/dist-packages/tensorflow_examples/lite/model_maker/core/data_util/object_detector_dataloader.py\u001b[0m in \u001b[0;36mfrom_csv\u001b[0;34m(cls, filename, images_dir, delimiter, quotechar, num_shards, max_num_images, cache_dir, cache_prefix_filename)\u001b[0m\n\u001b[1;32m    290\u001b[0m       \u001b[0;32mfor\u001b[0m \u001b[0mcache_files\u001b[0m\u001b[0;34m,\u001b[0m \u001b[0mcsv_lines\u001b[0m \u001b[0;32min\u001b[0m \u001b[0mzip\u001b[0m\u001b[0;34m(\u001b[0m\u001b[0mcache_files_list\u001b[0m\u001b[0;34m,\u001b[0m \u001b[0mlines_list\u001b[0m\u001b[0;34m)\u001b[0m\u001b[0;34m:\u001b[0m\u001b[0;34m\u001b[0m\u001b[0;34m\u001b[0m\u001b[0m\n\u001b[1;32m    291\u001b[0m         \u001b[0;32mif\u001b[0m \u001b[0mcsv_lines\u001b[0m\u001b[0;34m:\u001b[0m\u001b[0;34m\u001b[0m\u001b[0;34m\u001b[0m\u001b[0m\n\u001b[0;32m--> 292\u001b[0;31m           \u001b[0mcache_writer\u001b[0m\u001b[0;34m.\u001b[0m\u001b[0mwrite_files\u001b[0m\u001b[0;34m(\u001b[0m\u001b[0mcache_files\u001b[0m\u001b[0;34m,\u001b[0m \u001b[0mcsv_lines\u001b[0m\u001b[0;34m=\u001b[0m\u001b[0mcsv_lines\u001b[0m\u001b[0;34m)\u001b[0m\u001b[0;34m\u001b[0m\u001b[0;34m\u001b[0m\u001b[0m\n\u001b[0m\u001b[1;32m    293\u001b[0m \u001b[0;34m\u001b[0m\u001b[0m\n\u001b[1;32m    294\u001b[0m     \u001b[0;31m# Loads training & validation & test data from cache.\u001b[0m\u001b[0;34m\u001b[0m\u001b[0;34m\u001b[0m\u001b[0;34m\u001b[0m\u001b[0m\n",
            "\u001b[0;32m/usr/local/lib/python3.7/dist-packages/tensorflow_examples/lite/model_maker/core/data_util/object_detector_dataloader_util.py\u001b[0m in \u001b[0;36mwrite_files\u001b[0;34m(self, cache_files, *args, **kwargs)\u001b[0m\n\u001b[1;32m    245\u001b[0m     \u001b[0;31m# Writes tf.Example into TFRecord files.\u001b[0m\u001b[0;34m\u001b[0m\u001b[0;34m\u001b[0m\u001b[0;34m\u001b[0m\u001b[0m\n\u001b[1;32m    246\u001b[0m     \u001b[0msize\u001b[0m \u001b[0;34m=\u001b[0m \u001b[0;36m0\u001b[0m\u001b[0;34m\u001b[0m\u001b[0;34m\u001b[0m\u001b[0m\n\u001b[0;32m--> 247\u001b[0;31m     \u001b[0;32mfor\u001b[0m \u001b[0midx\u001b[0m\u001b[0;34m,\u001b[0m \u001b[0mxml_dict\u001b[0m \u001b[0;32min\u001b[0m \u001b[0menumerate\u001b[0m\u001b[0;34m(\u001b[0m\u001b[0mself\u001b[0m\u001b[0;34m.\u001b[0m\u001b[0m_get_xml_dict\u001b[0m\u001b[0;34m(\u001b[0m\u001b[0;34m*\u001b[0m\u001b[0margs\u001b[0m\u001b[0;34m,\u001b[0m \u001b[0;34m**\u001b[0m\u001b[0mkwargs\u001b[0m\u001b[0;34m)\u001b[0m\u001b[0;34m)\u001b[0m\u001b[0;34m:\u001b[0m\u001b[0;34m\u001b[0m\u001b[0;34m\u001b[0m\u001b[0m\n\u001b[0m\u001b[1;32m    248\u001b[0m       \u001b[0;32mif\u001b[0m \u001b[0mself\u001b[0m\u001b[0;34m.\u001b[0m\u001b[0mmax_num_images\u001b[0m \u001b[0;32mand\u001b[0m \u001b[0midx\u001b[0m \u001b[0;34m>=\u001b[0m \u001b[0mself\u001b[0m\u001b[0;34m.\u001b[0m\u001b[0mmax_num_images\u001b[0m\u001b[0;34m:\u001b[0m\u001b[0;34m\u001b[0m\u001b[0;34m\u001b[0m\u001b[0m\n\u001b[1;32m    249\u001b[0m         \u001b[0;32mbreak\u001b[0m\u001b[0;34m\u001b[0m\u001b[0;34m\u001b[0m\u001b[0m\n",
            "\u001b[0;32m/usr/local/lib/python3.7/dist-packages/tensorflow_examples/lite/model_maker/core/data_util/object_detector_dataloader_util.py\u001b[0m in \u001b[0;36m_get_xml_dict\u001b[0;34m(self, csv_lines)\u001b[0m\n\u001b[1;32m    379\u001b[0m       \u001b[0;31m# fields.\u001b[0m\u001b[0;34m\u001b[0m\u001b[0;34m\u001b[0m\u001b[0;34m\u001b[0m\u001b[0m\n\u001b[1;32m    380\u001b[0m       xml_dict = _get_xml_dict_from_csv_lines(self.images_dir, image_filename,\n\u001b[0;32m--> 381\u001b[0;31m                                               lines)\n\u001b[0m\u001b[1;32m    382\u001b[0m       \u001b[0;32myield\u001b[0m \u001b[0mxml_dict\u001b[0m\u001b[0;34m\u001b[0m\u001b[0;34m\u001b[0m\u001b[0m\n",
            "\u001b[0;32m/usr/local/lib/python3.7/dist-packages/tensorflow_examples/lite/model_maker/core/data_util/object_detector_dataloader_util.py\u001b[0m in \u001b[0;36m_get_xml_dict_from_csv_lines\u001b[0;34m(images_dir, image_filename, lines)\u001b[0m\n\u001b[1;32m    319\u001b[0m   \u001b[0mimage_path\u001b[0m \u001b[0;34m=\u001b[0m \u001b[0mos\u001b[0m\u001b[0;34m.\u001b[0m\u001b[0mpath\u001b[0m\u001b[0;34m.\u001b[0m\u001b[0mjoin\u001b[0m\u001b[0;34m(\u001b[0m\u001b[0mimages_dir\u001b[0m\u001b[0;34m,\u001b[0m \u001b[0mimage_filename\u001b[0m\u001b[0;34m)\u001b[0m\u001b[0;34m\u001b[0m\u001b[0;34m\u001b[0m\u001b[0m\n\u001b[1;32m    320\u001b[0m   \u001b[0;32mwith\u001b[0m \u001b[0mtf\u001b[0m\u001b[0;34m.\u001b[0m\u001b[0mio\u001b[0m\u001b[0;34m.\u001b[0m\u001b[0mgfile\u001b[0m\u001b[0;34m.\u001b[0m\u001b[0mGFile\u001b[0m\u001b[0;34m(\u001b[0m\u001b[0mimage_path\u001b[0m\u001b[0;34m,\u001b[0m \u001b[0;34m'rb'\u001b[0m\u001b[0;34m)\u001b[0m \u001b[0;32mas\u001b[0m \u001b[0mfid\u001b[0m\u001b[0;34m:\u001b[0m\u001b[0;34m\u001b[0m\u001b[0;34m\u001b[0m\u001b[0m\n\u001b[0;32m--> 321\u001b[0;31m     \u001b[0mencoded_jpg\u001b[0m \u001b[0;34m=\u001b[0m \u001b[0mfid\u001b[0m\u001b[0;34m.\u001b[0m\u001b[0mread\u001b[0m\u001b[0;34m(\u001b[0m\u001b[0;34m)\u001b[0m\u001b[0;34m\u001b[0m\u001b[0;34m\u001b[0m\u001b[0m\n\u001b[0m\u001b[1;32m    322\u001b[0m   \u001b[0mencoded_jpg_io\u001b[0m \u001b[0;34m=\u001b[0m \u001b[0mio\u001b[0m\u001b[0;34m.\u001b[0m\u001b[0mBytesIO\u001b[0m\u001b[0;34m(\u001b[0m\u001b[0mencoded_jpg\u001b[0m\u001b[0;34m)\u001b[0m\u001b[0;34m\u001b[0m\u001b[0;34m\u001b[0m\u001b[0m\n\u001b[1;32m    323\u001b[0m   \u001b[0mimage\u001b[0m \u001b[0;34m=\u001b[0m \u001b[0mPIL\u001b[0m\u001b[0;34m.\u001b[0m\u001b[0mImage\u001b[0m\u001b[0;34m.\u001b[0m\u001b[0mopen\u001b[0m\u001b[0;34m(\u001b[0m\u001b[0mencoded_jpg_io\u001b[0m\u001b[0;34m)\u001b[0m\u001b[0;34m\u001b[0m\u001b[0;34m\u001b[0m\u001b[0m\n",
            "\u001b[0;32m/usr/local/lib/python3.7/dist-packages/tensorflow/python/lib/io/file_io.py\u001b[0m in \u001b[0;36mread\u001b[0;34m(self, n)\u001b[0m\n\u001b[1;32m    117\u001b[0m     \u001b[0;32melse\u001b[0m\u001b[0;34m:\u001b[0m\u001b[0;34m\u001b[0m\u001b[0;34m\u001b[0m\u001b[0m\n\u001b[1;32m    118\u001b[0m       \u001b[0mlength\u001b[0m \u001b[0;34m=\u001b[0m \u001b[0mn\u001b[0m\u001b[0;34m\u001b[0m\u001b[0;34m\u001b[0m\u001b[0m\n\u001b[0;32m--> 119\u001b[0;31m     \u001b[0;32mreturn\u001b[0m \u001b[0mself\u001b[0m\u001b[0;34m.\u001b[0m\u001b[0m_prepare_value\u001b[0m\u001b[0;34m(\u001b[0m\u001b[0mself\u001b[0m\u001b[0;34m.\u001b[0m\u001b[0m_read_buf\u001b[0m\u001b[0;34m.\u001b[0m\u001b[0mread\u001b[0m\u001b[0;34m(\u001b[0m\u001b[0mlength\u001b[0m\u001b[0;34m)\u001b[0m\u001b[0;34m)\u001b[0m\u001b[0;34m\u001b[0m\u001b[0;34m\u001b[0m\u001b[0m\n\u001b[0m\u001b[1;32m    120\u001b[0m \u001b[0;34m\u001b[0m\u001b[0m\n\u001b[1;32m    121\u001b[0m   @deprecation.deprecated_args(\n",
            "\u001b[0;31mKeyboardInterrupt\u001b[0m: "
          ]
        }
      ]
    },
    {
      "cell_type": "code",
      "source": [
        "model = object_detector.create(train_data, model_spec=spec, epochs=80, batch_size=16, train_whole_model=True, validation_data=validation_data)"
      ],
      "metadata": {
        "id": "VpCjh2TEn6_X"
      },
      "execution_count": null,
      "outputs": []
    },
    {
      "cell_type": "code",
      "source": [
        "model.export(export_dir='/content/drive/MyDrive/hagrid_dataset/model/')"
      ],
      "metadata": {
        "id": "dap0AryFn_Vr"
      },
      "execution_count": null,
      "outputs": []
    },
    {
      "cell_type": "code",
      "source": [
        "#67.5 GB available silo, Look, koto thake"
      ],
      "metadata": {
        "id": "HyZtbq_SoGQI"
      },
      "execution_count": null,
      "outputs": []
    }
  ],
  "metadata": {
    "colab": {
      "provenance": [],
      "include_colab_link": true
    },
    "kernelspec": {
      "display_name": "Python 3",
      "name": "python3"
    },
    "language_info": {
      "name": "python"
    }
  },
  "nbformat": 4,
  "nbformat_minor": 0
}